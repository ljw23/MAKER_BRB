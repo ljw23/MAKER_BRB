{
 "metadata": {
  "language_info": {
   "codemirror_mode": {
    "name": "ipython",
    "version": 3
   },
   "file_extension": ".py",
   "mimetype": "text/x-python",
   "name": "python",
   "nbconvert_exporter": "python",
   "pygments_lexer": "ipython3",
   "version": "3.7.6"
  },
  "orig_nbformat": 2,
  "kernelspec": {
   "name": "python3",
   "display_name": "Python 3.7.6 64-bit",
   "metadata": {
    "interpreter": {
     "hash": "e4aaffc62994aec7e91b56940e0c741daf2e57033edf4147497eb1c58fd49bd3"
    }
   }
  }
 },
 "nbformat": 4,
 "nbformat_minor": 2,
 "cells": [
  {
   "cell_type": "code",
   "execution_count": 1,
   "metadata": {},
   "outputs": [],
   "source": [
    "import pandas as pd"
   ]
  },
  {
   "cell_type": "code",
   "execution_count": 2,
   "metadata": {},
   "outputs": [],
   "source": [
    "import json\n",
    "from typing import Dict, List"
   ]
  },
  {
   "cell_type": "code",
   "execution_count": 3,
   "metadata": {},
   "outputs": [
    {
     "output_type": "stream",
     "name": "stdout",
     "text": [
      "{'id': 0, 'features': {'V1': {'A1': 0.3, 'B1': 0.7, 'C1': 0, 'D1': 0}, 'V2': {'A2': 0.0, 'B2': 0.5, 'C2': 0.5, 'D2': 0}, 'V3': {'A3': 0.0, 'B3': 1}, 'h': 0}}\n{'id': 1, 'features': {'V1': {'A1': 0.0, 'B1': 0.5, 'C1': 0.5, 'D1': 0}, 'V2': {'A2': 1, 'B2': 0, 'C2': 0, 'D2': 0}, 'V3': {'A3': 1, 'B3': 0}, 'h': 1}}\n{'id': 2, 'features': {'V1': {'A1': 0.0, 'B1': 0.0, 'C1': 1, 'D1': 0}, 'V2': {'A2': 0, 'B2': 1, 'C2': 0, 'D2': 0}, 'V3': {'A3': 1, 'B3': 0}, 'h': 1}}\n{'id': 3, 'features': {'V1': {'A1': 0.0, 'B1': 0.0, 'C1': 1.0, 'D1': 0}, 'V2': {'A2': 0, 'B2': 1, 'C2': 0, 'D2': 0}, 'V3': {'A3': 0, 'B3': 1}, 'h': 0}}\n{'id': 4, 'features': {'V1': {'A1': 0.0, 'B1': 0.0, 'C1': 0.0, 'D1': 1}, 'V2': {'A2': 0, 'B2': 0, 'C2': 0, 'D2': 1}, 'V3': {'A3': 1, 'B3': 0}, 'h': 1}}\n"
     ]
    }
   ],
   "source": [
    "data_path = '/home/liujunwen/MAKER_BRB/data/demodata.json'\n",
    "data_list = []\n",
    "with open(data_path,'r')as f:\n",
    "    for line in f:\n",
    "        _data = json.loads(line.strip())\n",
    "        print(_data)\n",
    "        data_list.append(_data)"
   ]
  },
  {
   "cell_type": "code",
   "execution_count": 14,
   "metadata": {},
   "outputs": [],
   "source": [
    "'''\n",
    "一条数据\n",
    "{\n",
    "        \"id\": 0,\n",
    "        \"features\": {\n",
    "            \"v1\": {\n",
    "                \"A1\": 0.3,\n",
    "                \"B1\": 0.7,\n",
    "                \"C1\": 0,\n",
    "                \"D1\": 0\n",
    "            },\n",
    "            \"V2\": {\n",
    "                \"A2\": 0.0,\n",
    "                \"B2\": 0.5,\n",
    "                \"C2\": 0.5,\n",
    "                \"D2\": 0\n",
    "            },\n",
    "            \"V3\": {\n",
    "                \"A3\": 0.0,\n",
    "                \"B3\": 1\n",
    "            },\n",
    "            \"h\": 0\n",
    "        }\n",
    "    }\n",
    "'''\n",
    "def get_phvq(data_list,h,index_list:List):\n",
    "    '''\n",
    "    data_list每项为一条数据\n",
    "    v对应1级指标，q对应2级指标\n",
    "    统计sum(h,v,q)/sum(v,q)\n",
    "    '''\n",
    "    h_set = get_h_set()\n",
    "    C_h_set = {}\n",
    "    for _h in h_set:\n",
    "        C_h_set[_h] = 0\n",
    "\n",
    "    C_h_v_q = 0\n",
    "    C_v_q = 0\n",
    "    for _data in data_list:\n",
    "        _features = _data['features']\n",
    "        _c_v_q = 1\n",
    "        for index in index_list:\n",
    "            v = index['v']\n",
    "            q = index['q']\n",
    "            index_v = _features.get(v, None)\n",
    "            if not index_v:\n",
    "                print('index: %s not exist'%v)\n",
    "                print(_data)\n",
    "                break\n",
    "            _c_v_q *= index_v.get(q,0)\n",
    "        C_v_q += _c_v_q\n",
    "        ???\n",
    "        if _features['h'] == h:\n",
    "            C_h_v_q += _c_v_q\n",
    "    if C_v_q == 0:\n",
    "        return 0\n",
    "    return C_h_v_q/C_v_q\n",
    "\n",
    "def get_interrelation_h_vq(data_list,h,index_list:List):\n",
    "    p_product = 1\n",
    "    for index in index_list:\n",
    "        _p = get_phvq(data_list,h,[index])\n",
    "        if _p == 0:\n",
    "            return 0\n",
    "        p_product *= _p\n",
    "    p_multi = get_phvq(data_list,h,index_list)\n",
    "    return p_multi/p_product\n",
    "\n",
    "def get_h_set(data_list):\n",
    "    return set([data['features']['h'] for data in data_list ])\n",
    "\n",
    "def get_features():\n",
    "    return {'V1':{\"A1\",\"B1\",\"C1\",\"D1\"},'V2':{\"A2\",\"B2\",\"C2\",\"D2\"},'V3':{\"A3\",\"B3\"}}\n"
   ]
  },
  {
   "cell_type": "code",
   "execution_count": 17,
   "metadata": {},
   "outputs": [
    {
     "output_type": "execute_result",
     "data": {
      "text/plain": [
       "1.0"
      ]
     },
     "metadata": {},
     "execution_count": 17
    }
   ],
   "source": [
    "get_phvq(data_list=data_list,h=0,index_list= [{'v':'V1','q':'A1'},{'v':'V2','q':'B2'}])"
   ]
  },
  {
   "cell_type": "code",
   "execution_count": 18,
   "metadata": {},
   "outputs": [
    {
     "output_type": "execute_result",
     "data": {
      "text/plain": [
       "1.6666666666666667"
      ]
     },
     "metadata": {},
     "execution_count": 18
    }
   ],
   "source": [
    "get_interrelation_h_vq(data_list=data_list,h=0,index_list= [{'v':'V1','q':'A1'},{'v':'V2','q':'B2'}])"
   ]
  },
  {
   "cell_type": "code",
   "execution_count": 6,
   "metadata": {},
   "outputs": [
    {
     "output_type": "execute_result",
     "data": {
      "text/plain": [
       "{'V1': {'A1', 'B1', 'C1', 'D1'},\n",
       " 'V2': {'A2', 'B2', 'C2', 'D2'},\n",
       " 'V3': {'A3', 'B3'}}"
      ]
     },
     "metadata": {},
     "execution_count": 6
    }
   ],
   "source": [
    "get_features()"
   ]
  },
  {
   "cell_type": "code",
   "execution_count": 7,
   "metadata": {},
   "outputs": [
    {
     "output_type": "execute_result",
     "data": {
      "text/plain": [
       "{0, 1}"
      ]
     },
     "metadata": {},
     "execution_count": 7
    }
   ],
   "source": [
    "get_h_set(data_list)"
   ]
  },
  {
   "cell_type": "code",
   "execution_count": 19,
   "metadata": {},
   "outputs": [],
   "source": [
    "import torch.nn "
   ]
  },
  {
   "cell_type": "code",
   "execution_count": null,
   "metadata": {},
   "outputs": [],
   "source": [
    "class MAKER(nn.)"
   ]
  }
 ]
}