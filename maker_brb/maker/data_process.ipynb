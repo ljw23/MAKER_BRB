{
 "metadata": {
  "language_info": {
   "codemirror_mode": {
    "name": "ipython",
    "version": 3
   },
   "file_extension": ".py",
   "mimetype": "text/x-python",
   "name": "python",
   "nbconvert_exporter": "python",
   "pygments_lexer": "ipython3",
   "version": "3.7.6"
  },
  "orig_nbformat": 2,
  "kernelspec": {
   "name": "python3",
   "display_name": "Python 3.7.6 64-bit",
   "metadata": {
    "interpreter": {
     "hash": "e4aaffc62994aec7e91b56940e0c741daf2e57033edf4147497eb1c58fd49bd3"
    }
   }
  }
 },
 "nbformat": 4,
 "nbformat_minor": 2,
 "cells": [
  {
   "cell_type": "code",
   "execution_count": 2,
   "metadata": {},
   "outputs": [],
   "source": [
    "import pandas as pd"
   ]
  },
  {
   "cell_type": "code",
   "execution_count": 64,
   "metadata": {},
   "outputs": [
    {
     "output_type": "execute_result",
     "data": {
      "text/plain": [
       "    id   V1 Unnamed: 2 Unnamed: 3 Unnamed: 4  V2 Unnamed: 6 Unnamed: 7  \\\n",
       "0  NaN   A1         B1         C1         D1  A2         B2         C2   \n",
       "1  1.0  0.3        0.7          0          0   1          0          0   \n",
       "2  2.0    0        0.5        0.5          0   1          0          0   \n",
       "3  3.0    0          1          0          0   0          1          0   \n",
       "4  4.0    0          0          1          0   0          1          0   \n",
       "\n",
       "  Unnamed: 8  V3 Unnamed: 10    h  \n",
       "0         D2  A3          B3  NaN  \n",
       "1          0   0           1  0.0  \n",
       "2          0   1           0  1.0  \n",
       "3          0   1           0  1.0  \n",
       "4          0   0           1  0.0  "
      ],
      "text/html": "<div>\n<style scoped>\n    .dataframe tbody tr th:only-of-type {\n        vertical-align: middle;\n    }\n\n    .dataframe tbody tr th {\n        vertical-align: top;\n    }\n\n    .dataframe thead th {\n        text-align: right;\n    }\n</style>\n<table border=\"1\" class=\"dataframe\">\n  <thead>\n    <tr style=\"text-align: right;\">\n      <th></th>\n      <th>id</th>\n      <th>V1</th>\n      <th>Unnamed: 2</th>\n      <th>Unnamed: 3</th>\n      <th>Unnamed: 4</th>\n      <th>V2</th>\n      <th>Unnamed: 6</th>\n      <th>Unnamed: 7</th>\n      <th>Unnamed: 8</th>\n      <th>V3</th>\n      <th>Unnamed: 10</th>\n      <th>h</th>\n    </tr>\n  </thead>\n  <tbody>\n    <tr>\n      <th>0</th>\n      <td>NaN</td>\n      <td>A1</td>\n      <td>B1</td>\n      <td>C1</td>\n      <td>D1</td>\n      <td>A2</td>\n      <td>B2</td>\n      <td>C2</td>\n      <td>D2</td>\n      <td>A3</td>\n      <td>B3</td>\n      <td>NaN</td>\n    </tr>\n    <tr>\n      <th>1</th>\n      <td>1.0</td>\n      <td>0.3</td>\n      <td>0.7</td>\n      <td>0</td>\n      <td>0</td>\n      <td>1</td>\n      <td>0</td>\n      <td>0</td>\n      <td>0</td>\n      <td>0</td>\n      <td>1</td>\n      <td>0.0</td>\n    </tr>\n    <tr>\n      <th>2</th>\n      <td>2.0</td>\n      <td>0</td>\n      <td>0.5</td>\n      <td>0.5</td>\n      <td>0</td>\n      <td>1</td>\n      <td>0</td>\n      <td>0</td>\n      <td>0</td>\n      <td>1</td>\n      <td>0</td>\n      <td>1.0</td>\n    </tr>\n    <tr>\n      <th>3</th>\n      <td>3.0</td>\n      <td>0</td>\n      <td>1</td>\n      <td>0</td>\n      <td>0</td>\n      <td>0</td>\n      <td>1</td>\n      <td>0</td>\n      <td>0</td>\n      <td>1</td>\n      <td>0</td>\n      <td>1.0</td>\n    </tr>\n    <tr>\n      <th>4</th>\n      <td>4.0</td>\n      <td>0</td>\n      <td>0</td>\n      <td>1</td>\n      <td>0</td>\n      <td>0</td>\n      <td>1</td>\n      <td>0</td>\n      <td>0</td>\n      <td>0</td>\n      <td>1</td>\n      <td>0.0</td>\n    </tr>\n  </tbody>\n</table>\n</div>"
     },
     "metadata": {},
     "execution_count": 64
    }
   ],
   "source": [
    "data_path = '/home/liujunwen/MAKER_BRB/data/features.csv'\n",
    "df = pd.read_csv(data_path,)\n",
    "df.head()"
   ]
  },
  {
   "cell_type": "code",
   "execution_count": 23,
   "metadata": {},
   "outputs": [
    {
     "output_type": "execute_result",
     "data": {
      "text/plain": [
       "0.6"
      ]
     },
     "metadata": {},
     "execution_count": 23
    }
   ],
   "source": [
    "df[df['h']==-1]['A1'].sum()"
   ]
  },
  {
   "cell_type": "code",
   "execution_count": 62,
   "metadata": {},
   "outputs": [],
   "source": [
    "def get_phvq(df,h,vq):\n",
    "    sum_vq = df[vq].sum()\n",
    "    sum_h_vq = df[df['h']==h][vq].sum()\n",
    "    return sum_h_vq/sum_vq\n",
    "\n",
    "def get_joint_phvv(df,h, v1, v2):\n",
    "    \n",
    "def get_h(df):\n",
    "    return set(df['h'].values)\n",
    "\n",
    "def get_features(df):\n",
    "    cols = set(df.columns)\n",
    "    cols.remove('id')\n",
    "    cols.remove('h')\n",
    "    return cols\n",
    "\n",
    "def get_p_h_vq(df):\n",
    "    df_p_h_vq = pd.DataFrame(columns=['vq', 'h','p'])\n",
    "    i = 0\n",
    "    for h in get_h(df):\n",
    "        for vq in get_features(df):\n",
    "            # _data = {'vq':vq, 'h':h, 'p':count_phvq(df,h,vq)}\n",
    "            # print(_data)\n",
    "            _data = [vq, h, get_phvq(df,h,vq)]\n",
    "            df_p_h_vq.loc[i] = _data\n",
    "            i += 1\n",
    "    return df_p_h_vq\n",
    "\n",
    "\n"
   ]
  },
  {
   "cell_type": "code",
   "execution_count": 25,
   "metadata": {},
   "outputs": [
    {
     "output_type": "execute_result",
     "data": {
      "text/plain": [
       "0.25"
      ]
     },
     "metadata": {},
     "execution_count": 25
    }
   ],
   "source": [
    "count_phvq(df, -1, 'A1')"
   ]
  },
  {
   "cell_type": "code",
   "execution_count": 26,
   "metadata": {},
   "outputs": [
    {
     "output_type": "execute_result",
     "data": {
      "text/plain": [
       "0.33333333333333337"
      ]
     },
     "metadata": {},
     "execution_count": 26
    }
   ],
   "source": [
    "count_phvq(df, 0, 'A1')"
   ]
  },
  {
   "cell_type": "code",
   "execution_count": 27,
   "metadata": {},
   "outputs": [
    {
     "output_type": "execute_result",
     "data": {
      "text/plain": [
       "0.4166666666666667"
      ]
     },
     "metadata": {},
     "execution_count": 27
    }
   ],
   "source": [
    "count_phvq(df, 1, 'A1')"
   ]
  },
  {
   "cell_type": "code",
   "execution_count": 44,
   "metadata": {},
   "outputs": [
    {
     "output_type": "execute_result",
     "data": {
      "text/plain": [
       "{'A1', 'A2', 'B1', 'B2', 'C1', 'C2', 'D1', 'D2'}"
      ]
     },
     "metadata": {},
     "execution_count": 44
    }
   ],
   "source": [
    "get_features(df)"
   ]
  },
  {
   "cell_type": "code",
   "execution_count": 47,
   "metadata": {},
   "outputs": [
    {
     "output_type": "execute_result",
     "data": {
      "text/plain": [
       "Empty DataFrame\n",
       "Columns: [vq, h, p]\n",
       "Index: []"
      ],
      "text/html": "<div>\n<style scoped>\n    .dataframe tbody tr th:only-of-type {\n        vertical-align: middle;\n    }\n\n    .dataframe tbody tr th {\n        vertical-align: top;\n    }\n\n    .dataframe thead th {\n        text-align: right;\n    }\n</style>\n<table border=\"1\" class=\"dataframe\">\n  <thead>\n    <tr style=\"text-align: right;\">\n      <th></th>\n      <th>vq</th>\n      <th>h</th>\n      <th>p</th>\n    </tr>\n  </thead>\n  <tbody>\n  </tbody>\n</table>\n</div>"
     },
     "metadata": {},
     "execution_count": 47
    }
   ],
   "source": [
    "df_p_h_vq = pd.DataFrame(columns=['vq', 'h','p'])\n",
    "df_p_h_vq"
   ]
  },
  {
   "cell_type": "code",
   "execution_count": 63,
   "metadata": {},
   "outputs": [
    {
     "output_type": "execute_result",
     "data": {
      "text/plain": [
       "    vq   h         p\n",
       "0   C1   0  0.500000\n",
       "1   A2   0  0.846154\n",
       "2   D1   0       NaN\n",
       "3   C2   0  0.666667\n",
       "4   A1   0  0.333333\n",
       "5   B1   0  0.666667\n",
       "6   B2   0  0.500000\n",
       "7   D2   0  0.600000\n",
       "8   C1   1  0.500000\n",
       "9   A2   1  0.000000\n",
       "10  D1   1       NaN\n",
       "11  C2   1  0.000000\n",
       "12  A1   1  0.416667\n",
       "13  B1   1  0.333333\n",
       "14  B2   1  0.000000\n",
       "15  D2   1  0.200000\n",
       "16  C1  -1  0.000000\n",
       "17  A2  -1  0.153846\n",
       "18  D1  -1       NaN\n",
       "19  C2  -1  0.333333\n",
       "20  A1  -1  0.250000\n",
       "21  B1  -1  0.000000\n",
       "22  B2  -1  0.500000\n",
       "23  D2  -1  0.200000"
      ],
      "text/html": "<div>\n<style scoped>\n    .dataframe tbody tr th:only-of-type {\n        vertical-align: middle;\n    }\n\n    .dataframe tbody tr th {\n        vertical-align: top;\n    }\n\n    .dataframe thead th {\n        text-align: right;\n    }\n</style>\n<table border=\"1\" class=\"dataframe\">\n  <thead>\n    <tr style=\"text-align: right;\">\n      <th></th>\n      <th>vq</th>\n      <th>h</th>\n      <th>p</th>\n    </tr>\n  </thead>\n  <tbody>\n    <tr>\n      <th>0</th>\n      <td>C1</td>\n      <td>0</td>\n      <td>0.500000</td>\n    </tr>\n    <tr>\n      <th>1</th>\n      <td>A2</td>\n      <td>0</td>\n      <td>0.846154</td>\n    </tr>\n    <tr>\n      <th>2</th>\n      <td>D1</td>\n      <td>0</td>\n      <td>NaN</td>\n    </tr>\n    <tr>\n      <th>3</th>\n      <td>C2</td>\n      <td>0</td>\n      <td>0.666667</td>\n    </tr>\n    <tr>\n      <th>4</th>\n      <td>A1</td>\n      <td>0</td>\n      <td>0.333333</td>\n    </tr>\n    <tr>\n      <th>5</th>\n      <td>B1</td>\n      <td>0</td>\n      <td>0.666667</td>\n    </tr>\n    <tr>\n      <th>6</th>\n      <td>B2</td>\n      <td>0</td>\n      <td>0.500000</td>\n    </tr>\n    <tr>\n      <th>7</th>\n      <td>D2</td>\n      <td>0</td>\n      <td>0.600000</td>\n    </tr>\n    <tr>\n      <th>8</th>\n      <td>C1</td>\n      <td>1</td>\n      <td>0.500000</td>\n    </tr>\n    <tr>\n      <th>9</th>\n      <td>A2</td>\n      <td>1</td>\n      <td>0.000000</td>\n    </tr>\n    <tr>\n      <th>10</th>\n      <td>D1</td>\n      <td>1</td>\n      <td>NaN</td>\n    </tr>\n    <tr>\n      <th>11</th>\n      <td>C2</td>\n      <td>1</td>\n      <td>0.000000</td>\n    </tr>\n    <tr>\n      <th>12</th>\n      <td>A1</td>\n      <td>1</td>\n      <td>0.416667</td>\n    </tr>\n    <tr>\n      <th>13</th>\n      <td>B1</td>\n      <td>1</td>\n      <td>0.333333</td>\n    </tr>\n    <tr>\n      <th>14</th>\n      <td>B2</td>\n      <td>1</td>\n      <td>0.000000</td>\n    </tr>\n    <tr>\n      <th>15</th>\n      <td>D2</td>\n      <td>1</td>\n      <td>0.200000</td>\n    </tr>\n    <tr>\n      <th>16</th>\n      <td>C1</td>\n      <td>-1</td>\n      <td>0.000000</td>\n    </tr>\n    <tr>\n      <th>17</th>\n      <td>A2</td>\n      <td>-1</td>\n      <td>0.153846</td>\n    </tr>\n    <tr>\n      <th>18</th>\n      <td>D1</td>\n      <td>-1</td>\n      <td>NaN</td>\n    </tr>\n    <tr>\n      <th>19</th>\n      <td>C2</td>\n      <td>-1</td>\n      <td>0.333333</td>\n    </tr>\n    <tr>\n      <th>20</th>\n      <td>A1</td>\n      <td>-1</td>\n      <td>0.250000</td>\n    </tr>\n    <tr>\n      <th>21</th>\n      <td>B1</td>\n      <td>-1</td>\n      <td>0.000000</td>\n    </tr>\n    <tr>\n      <th>22</th>\n      <td>B2</td>\n      <td>-1</td>\n      <td>0.500000</td>\n    </tr>\n    <tr>\n      <th>23</th>\n      <td>D2</td>\n      <td>-1</td>\n      <td>0.200000</td>\n    </tr>\n  </tbody>\n</table>\n</div>"
     },
     "metadata": {},
     "execution_count": 63
    }
   ],
   "source": [
    "get_p_h_vq(df)"
   ]
  },
  {
   "cell_type": "code",
   "execution_count": 4,
   "metadata": {},
   "outputs": [
    {
     "output_type": "execute_result",
     "data": {
      "text/plain": [
       "0.015115354017501989"
      ]
     },
     "metadata": {},
     "execution_count": 4
    }
   ],
   "source": [
    "C1 = 38/(38+409+2067)\n",
    "C1"
   ]
  },
  {
   "cell_type": "code",
   "execution_count": 5,
   "metadata": {},
   "outputs": [
    {
     "output_type": "execute_result",
     "data": {
      "text/plain": [
       "0.049746192893401014"
      ]
     },
     "metadata": {},
     "execution_count": 5
    }
   ],
   "source": [
    "C2 = 49/(1+48+251+685)\n",
    "C2"
   ]
  },
  {
   "cell_type": "code",
   "execution_count": 6,
   "metadata": {},
   "outputs": [
    {
     "output_type": "execute_result",
     "data": {
      "text/plain": [
       "0.23304029486477065"
      ]
     },
     "metadata": {},
     "execution_count": 6
    }
   ],
   "source": [
    "C1/(C1+C2)"
   ]
  },
  {
   "cell_type": "code",
   "execution_count": 10,
   "metadata": {},
   "outputs": [],
   "source": [
    "a=['a',{'b','c'}]"
   ]
  },
  {
   "cell_type": "code",
   "execution_count": 11,
   "metadata": {},
   "outputs": [
    {
     "output_type": "execute_result",
     "data": {
      "text/plain": [
       "['a', {'b', 'c'}]"
      ]
     },
     "metadata": {},
     "execution_count": 11
    }
   ],
   "source": [
    "a"
   ]
  },
  {
   "cell_type": "code",
   "execution_count": 12,
   "metadata": {},
   "outputs": [
    {
     "output_type": "execute_result",
     "data": {
      "text/plain": [
       "[False, True]"
      ]
     },
     "metadata": {},
     "execution_count": 12
    }
   ],
   "source": [
    "[{'b','c'}==_a for _a in a]"
   ]
  },
  {
   "cell_type": "code",
   "execution_count": null,
   "metadata": {},
   "outputs": [],
   "source": []
  }
 ]
}